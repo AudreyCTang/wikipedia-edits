{
 "cells": [
  {
   "cell_type": "markdown",
   "id": "ce4eb682",
   "metadata": {},
   "source": [
    "## Imports"
   ]
  },
  {
   "cell_type": "code",
   "execution_count": 25,
   "id": "3ae14aeb",
   "metadata": {},
   "outputs": [],
   "source": [
    "import os\n",
    "import json\n",
    "\n",
    "import asyncio\n",
    "import websockets"
   ]
  },
  {
   "cell_type": "markdown",
   "id": "43de17ee",
   "metadata": {},
   "source": [
    "## Constant"
   ]
  },
  {
   "cell_type": "code",
   "execution_count": 36,
   "id": "9bb65860",
   "metadata": {},
   "outputs": [],
   "source": [
    "RAW_DIR = '../data/raw'\n",
    "RAW_PATH = os.path.join(RAW_DIR, 'wiki_edits.json')\n"
   ]
  },
  {
   "cell_type": "markdown",
   "id": "e43c3934",
   "metadata": {},
   "source": [
    "## Retrieve Data"
   ]
  },
  {
   "cell_type": "code",
   "execution_count": 2,
   "id": "4f54e759",
   "metadata": {},
   "outputs": [
    {
     "data": {
      "text/plain": [
       "<Task pending name='Task-4' coro=<hatnote() running at /tmp/ipykernel_27058/4230478275.py:7>>"
      ]
     },
     "execution_count": 2,
     "metadata": {},
     "output_type": "execute_result"
    }
   ],
   "source": [
    "counter = 0\n",
    "events = []\n",
    "\n",
    "async def hatnote():\n",
    "    async with websockets.connect(\"ws://wikimon.hatnote.com:9000\") as ws:\n",
    "        while True:\n",
    "            event = await ws.recv()\n",
    "            events.append(event)\n",
    "\n",
    "asyncio.create_task(hatnote())"
   ]
  },
  {
   "cell_type": "markdown",
   "id": "33c43ae3",
   "metadata": {},
   "source": [
    "## Save data"
   ]
  },
  {
   "cell_type": "code",
   "execution_count": 66,
   "id": "ab95c84c",
   "metadata": {},
   "outputs": [],
   "source": [
    "with open(RAW_PATH, 'w') as f:\n",
    "    json.dump(events, f)"
   ]
  },
  {
   "cell_type": "code",
   "execution_count": null,
   "id": "80f18001",
   "metadata": {},
   "outputs": [],
   "source": []
  }
 ],
 "metadata": {
  "kernelspec": {
   "display_name": "Python 3 (ipykernel)",
   "language": "python",
   "name": "python3"
  },
  "language_info": {
   "codemirror_mode": {
    "name": "ipython",
    "version": 3
   },
   "file_extension": ".py",
   "mimetype": "text/x-python",
   "name": "python",
   "nbconvert_exporter": "python",
   "pygments_lexer": "ipython3",
   "version": "3.8.0"
  }
 },
 "nbformat": 4,
 "nbformat_minor": 5
}
